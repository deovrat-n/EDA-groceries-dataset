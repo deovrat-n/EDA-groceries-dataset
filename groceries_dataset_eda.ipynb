{
  "cells": [
    {
      "cell_type": "markdown",
      "metadata": {
        "id": "view-in-github",
        "colab_type": "text"
      },
      "source": [
        "<a href=\"https://colab.research.google.com/github/deovrat-n/EDA-groceries-dataset/blob/main/groceries_dataset_eda.ipynb\" target=\"_parent\"><img src=\"https://colab.research.google.com/assets/colab-badge.svg\" alt=\"Open In Colab\"/></a>"
      ]
    },
    {
      "cell_type": "code",
      "execution_count": null,
      "id": "696a3f57",
      "metadata": {
        "_cell_guid": "b1076dfc-b9ad-4769-8c92-a6c4dae69d19",
        "_kg_hide-input": true,
        "_uuid": "8f2839f25d086af736a60e9eeb907d3b93b6e0e5",
        "execution": {
          "iopub.execute_input": "2022-07-22T11:25:42.063459Z",
          "iopub.status.busy": "2022-07-22T11:25:42.062753Z",
          "iopub.status.idle": "2022-07-22T11:25:42.088202Z",
          "shell.execute_reply": "2022-07-22T11:25:42.086972Z"
        },
        "papermill": {
          "duration": 0.042987,
          "end_time": "2022-07-22T11:25:42.091302",
          "exception": false,
          "start_time": "2022-07-22T11:25:42.048315",
          "status": "completed"
        },
        "tags": [],
        "id": "696a3f57"
      },
      "outputs": [],
      "source": [
        "\n",
        "\n",
        "import numpy as np # linear algebra\n",
        "import pandas as pd # data processing, CSV file I/O (e.g. pd.read_csv)\n",
        "\n",
        "\n",
        "import os\n",
        "for dirname, _, filenames in os.walk('/kaggle/input'):\n",
        "    for filename in filenames:\n",
        "        print(os.path.join(dirname, filename))\n",
        "\n"
      ]
    },
    {
      "cell_type": "markdown",
      "id": "0ebad4ce",
      "metadata": {
        "papermill": {
          "duration": 0.011257,
          "end_time": "2022-07-22T11:25:42.114805",
          "exception": false,
          "start_time": "2022-07-22T11:25:42.103548",
          "status": "completed"
        },
        "tags": [],
        "id": "0ebad4ce"
      },
      "source": [
        "# Groceries Dataset Exploratory Data Analysis (EDA)"
      ]
    },
    {
      "cell_type": "markdown",
      "id": "1d12cb94",
      "metadata": {
        "papermill": {
          "duration": 0.01045,
          "end_time": "2022-07-22T11:25:42.136064",
          "exception": false,
          "start_time": "2022-07-22T11:25:42.125614",
          "status": "completed"
        },
        "tags": [],
        "id": "1d12cb94"
      },
      "source": [
        "## Import Libraries"
      ]
    },
    {
      "cell_type": "code",
      "execution_count": null,
      "id": "4f2b97ed",
      "metadata": {
        "execution": {
          "iopub.execute_input": "2022-07-22T11:25:42.163571Z",
          "iopub.status.busy": "2022-07-22T11:25:42.163111Z",
          "iopub.status.idle": "2022-07-22T11:25:44.777095Z",
          "shell.execute_reply": "2022-07-22T11:25:44.775622Z"
        },
        "papermill": {
          "duration": 2.6314,
          "end_time": "2022-07-22T11:25:44.779979",
          "exception": false,
          "start_time": "2022-07-22T11:25:42.148579",
          "status": "completed"
        },
        "tags": [],
        "id": "4f2b97ed"
      },
      "outputs": [],
      "source": [
        "import pandas as pd\n",
        "import numpy as np\n",
        "\n",
        "import matplotlib.pyplot as plt\n",
        "import seaborn as sns\n",
        "import plotly.express as px\n",
        "\n",
        "from pandas.api.types import CategoricalDtype"
      ]
    },
    {
      "cell_type": "markdown",
      "id": "2305c222",
      "metadata": {
        "execution": {
          "iopub.execute_input": "2022-06-30T05:57:41.265997Z",
          "iopub.status.busy": "2022-06-30T05:57:41.265524Z",
          "iopub.status.idle": "2022-06-30T05:57:41.272677Z",
          "shell.execute_reply": "2022-06-30T05:57:41.271001Z",
          "shell.execute_reply.started": "2022-06-30T05:57:41.265956Z"
        },
        "papermill": {
          "duration": 0.010369,
          "end_time": "2022-07-22T11:25:44.801318",
          "exception": false,
          "start_time": "2022-07-22T11:25:44.790949",
          "status": "completed"
        },
        "tags": [],
        "id": "2305c222"
      },
      "source": [
        "## Inspecting The Data"
      ]
    },
    {
      "cell_type": "code",
      "execution_count": null,
      "id": "9a027af5",
      "metadata": {
        "execution": {
          "iopub.execute_input": "2022-07-22T11:25:44.825963Z",
          "iopub.status.busy": "2022-07-22T11:25:44.825153Z",
          "iopub.status.idle": "2022-07-22T11:25:44.901292Z",
          "shell.execute_reply": "2022-07-22T11:25:44.900161Z"
        },
        "papermill": {
          "duration": 0.091933,
          "end_time": "2022-07-22T11:25:44.903902",
          "exception": false,
          "start_time": "2022-07-22T11:25:44.811969",
          "status": "completed"
        },
        "tags": [],
        "id": "9a027af5"
      },
      "outputs": [],
      "source": [
        "groceries=pd.read_csv('../input/groceries-dataset/Groceries_dataset.csv')\n",
        "groceries.head()"
      ]
    },
    {
      "cell_type": "code",
      "source": [
        ""
      ],
      "metadata": {
        "id": "KyEr2n-ws-Xd"
      },
      "id": "KyEr2n-ws-Xd",
      "execution_count": null,
      "outputs": []
    },
    {
      "cell_type": "code",
      "execution_count": null,
      "id": "496e4554",
      "metadata": {
        "execution": {
          "iopub.execute_input": "2022-07-22T11:25:44.928792Z",
          "iopub.status.busy": "2022-07-22T11:25:44.927931Z",
          "iopub.status.idle": "2022-07-22T11:25:44.961486Z",
          "shell.execute_reply": "2022-07-22T11:25:44.959865Z"
        },
        "papermill": {
          "duration": 0.048964,
          "end_time": "2022-07-22T11:25:44.964154",
          "exception": false,
          "start_time": "2022-07-22T11:25:44.915190",
          "status": "completed"
        },
        "tags": [],
        "id": "496e4554"
      },
      "outputs": [],
      "source": [
        "groceries.info()"
      ]
    },
    {
      "cell_type": "markdown",
      "id": "9c89c7bd",
      "metadata": {
        "papermill": {
          "duration": 0.01142,
          "end_time": "2022-07-22T11:25:44.987825",
          "exception": false,
          "start_time": "2022-07-22T11:25:44.976405",
          "status": "completed"
        },
        "tags": [],
        "id": "9c89c7bd"
      },
      "source": [
        "### Checking for Nulls"
      ]
    },
    {
      "cell_type": "code",
      "execution_count": null,
      "id": "878c7f39",
      "metadata": {
        "execution": {
          "iopub.execute_input": "2022-07-22T11:25:45.014733Z",
          "iopub.status.busy": "2022-07-22T11:25:45.013946Z",
          "iopub.status.idle": "2022-07-22T11:25:45.026973Z",
          "shell.execute_reply": "2022-07-22T11:25:45.025895Z"
        },
        "papermill": {
          "duration": 0.029894,
          "end_time": "2022-07-22T11:25:45.030489",
          "exception": false,
          "start_time": "2022-07-22T11:25:45.000595",
          "status": "completed"
        },
        "tags": [],
        "id": "878c7f39"
      },
      "outputs": [],
      "source": [
        "groceries.isna().sum()"
      ]
    },
    {
      "cell_type": "markdown",
      "id": "15e4a612",
      "metadata": {
        "papermill": {
          "duration": 0.012681,
          "end_time": "2022-07-22T11:25:45.057265",
          "exception": false,
          "start_time": "2022-07-22T11:25:45.044584",
          "status": "completed"
        },
        "tags": [],
        "id": "15e4a612"
      },
      "source": [
        "### General Description of Dataset"
      ]
    },
    {
      "cell_type": "code",
      "execution_count": null,
      "id": "2c34aa28",
      "metadata": {
        "execution": {
          "iopub.execute_input": "2022-07-22T11:25:45.085128Z",
          "iopub.status.busy": "2022-07-22T11:25:45.084114Z",
          "iopub.status.idle": "2022-07-22T11:25:45.118268Z",
          "shell.execute_reply": "2022-07-22T11:25:45.117277Z"
        },
        "papermill": {
          "duration": 0.051217,
          "end_time": "2022-07-22T11:25:45.120697",
          "exception": false,
          "start_time": "2022-07-22T11:25:45.069480",
          "status": "completed"
        },
        "tags": [],
        "id": "2c34aa28"
      },
      "outputs": [],
      "source": [
        "groceries.describe(include='all')"
      ]
    },
    {
      "cell_type": "markdown",
      "id": "9d8cc90b",
      "metadata": {
        "papermill": {
          "duration": 0.01294,
          "end_time": "2022-07-22T11:25:45.146818",
          "exception": false,
          "start_time": "2022-07-22T11:25:45.133878",
          "status": "completed"
        },
        "tags": [],
        "id": "9d8cc90b"
      },
      "source": [
        "### Changing Column Data Types"
      ]
    },
    {
      "cell_type": "code",
      "execution_count": null,
      "id": "c181f891",
      "metadata": {
        "execution": {
          "iopub.execute_input": "2022-07-22T11:25:45.176015Z",
          "iopub.status.busy": "2022-07-22T11:25:45.175184Z",
          "iopub.status.idle": "2022-07-22T11:25:45.206709Z",
          "shell.execute_reply": "2022-07-22T11:25:45.205840Z"
        },
        "papermill": {
          "duration": 0.049522,
          "end_time": "2022-07-22T11:25:45.209509",
          "exception": false,
          "start_time": "2022-07-22T11:25:45.159987",
          "status": "completed"
        },
        "tags": [],
        "id": "c181f891"
      },
      "outputs": [],
      "source": [
        "groceries['Date']=pd.to_datetime(groceries['Date'])\n",
        "groceries['Member_number']= groceries['Member_number'].astype('object')\n",
        "groceries.info()"
      ]
    },
    {
      "cell_type": "markdown",
      "id": "638ffd72",
      "metadata": {
        "papermill": {
          "duration": 0.013798,
          "end_time": "2022-07-22T11:25:45.235124",
          "exception": false,
          "start_time": "2022-07-22T11:25:45.221326",
          "status": "completed"
        },
        "tags": [],
        "id": "638ffd72"
      },
      "source": [
        "### Date Range of Dataset"
      ]
    },
    {
      "cell_type": "code",
      "execution_count": null,
      "id": "b63c9920",
      "metadata": {
        "execution": {
          "iopub.execute_input": "2022-07-22T11:25:45.264898Z",
          "iopub.status.busy": "2022-07-22T11:25:45.264154Z",
          "iopub.status.idle": "2022-07-22T11:25:45.304352Z",
          "shell.execute_reply": "2022-07-22T11:25:45.302936Z"
        },
        "papermill": {
          "duration": 0.05824,
          "end_time": "2022-07-22T11:25:45.307081",
          "exception": false,
          "start_time": "2022-07-22T11:25:45.248841",
          "status": "completed"
        },
        "tags": [],
        "id": "b63c9920"
      },
      "outputs": [],
      "source": [
        "str(groceries['Date'].dt.date.min()) + '  to  ' +str(groceries['Date'].dt.date.max()) "
      ]
    },
    {
      "cell_type": "markdown",
      "id": "c38cfea6",
      "metadata": {
        "papermill": {
          "duration": 0.013384,
          "end_time": "2022-07-22T11:25:45.333119",
          "exception": false,
          "start_time": "2022-07-22T11:25:45.319735",
          "status": "completed"
        },
        "tags": [],
        "id": "c38cfea6"
      },
      "source": [
        "### Checking for Duplicates"
      ]
    },
    {
      "cell_type": "code",
      "execution_count": null,
      "id": "ff7b37c0",
      "metadata": {
        "execution": {
          "iopub.execute_input": "2022-07-22T11:25:45.363877Z",
          "iopub.status.busy": "2022-07-22T11:25:45.362946Z",
          "iopub.status.idle": "2022-07-22T11:25:45.382552Z",
          "shell.execute_reply": "2022-07-22T11:25:45.381233Z"
        },
        "papermill": {
          "duration": 0.0384,
          "end_time": "2022-07-22T11:25:45.385430",
          "exception": false,
          "start_time": "2022-07-22T11:25:45.347030",
          "status": "completed"
        },
        "tags": [],
        "id": "ff7b37c0"
      },
      "outputs": [],
      "source": [
        "groceries.duplicated(keep='first').sum()"
      ]
    },
    {
      "cell_type": "markdown",
      "id": "4ddd07cf",
      "metadata": {
        "papermill": {
          "duration": 0.01211,
          "end_time": "2022-07-22T11:25:45.410607",
          "exception": false,
          "start_time": "2022-07-22T11:25:45.398497",
          "status": "completed"
        },
        "tags": [],
        "id": "4ddd07cf"
      },
      "source": [
        "There are 759 potential duplicates identified. More investigation needs to be done."
      ]
    },
    {
      "cell_type": "code",
      "execution_count": null,
      "id": "d7275732",
      "metadata": {
        "execution": {
          "iopub.execute_input": "2022-07-22T11:25:45.438135Z",
          "iopub.status.busy": "2022-07-22T11:25:45.437637Z",
          "iopub.status.idle": "2022-07-22T11:25:45.475736Z",
          "shell.execute_reply": "2022-07-22T11:25:45.474060Z"
        },
        "papermill": {
          "duration": 0.056489,
          "end_time": "2022-07-22T11:25:45.479501",
          "exception": false,
          "start_time": "2022-07-22T11:25:45.423012",
          "status": "completed"
        },
        "tags": [],
        "id": "d7275732"
      },
      "outputs": [],
      "source": [
        "groceries[groceries.duplicated(keep=False)].sort_values(by='Member_number')"
      ]
    },
    {
      "cell_type": "code",
      "execution_count": null,
      "id": "a9fc2e61",
      "metadata": {
        "execution": {
          "iopub.execute_input": "2022-07-22T11:25:45.509626Z",
          "iopub.status.busy": "2022-07-22T11:25:45.509121Z",
          "iopub.status.idle": "2022-07-22T11:25:45.554050Z",
          "shell.execute_reply": "2022-07-22T11:25:45.553077Z"
        },
        "papermill": {
          "duration": 0.062954,
          "end_time": "2022-07-22T11:25:45.556477",
          "exception": false,
          "start_time": "2022-07-22T11:25:45.493523",
          "status": "completed"
        },
        "tags": [],
        "id": "a9fc2e61"
      },
      "outputs": [],
      "source": [
        "groceries[groceries.duplicated(keep=False)].groupby(['Member_number','Date','itemDescription'],as_index=False).agg(DuplicateCount=('itemDescription','count')).sort_values(by='Member_number') "
      ]
    },
    {
      "cell_type": "markdown",
      "id": "1638092a",
      "metadata": {
        "execution": {
          "iopub.execute_input": "2022-07-18T10:49:15.001164Z",
          "iopub.status.busy": "2022-07-18T10:49:15.000707Z",
          "iopub.status.idle": "2022-07-18T10:49:15.010146Z",
          "shell.execute_reply": "2022-07-18T10:49:15.008147Z",
          "shell.execute_reply.started": "2022-07-18T10:49:15.001130Z"
        },
        "papermill": {
          "duration": 0.01317,
          "end_time": "2022-07-22T11:25:45.583762",
          "exception": false,
          "start_time": "2022-07-22T11:25:45.570592",
          "status": "completed"
        },
        "tags": [],
        "id": "1638092a"
      },
      "source": [
        "**The tables above show potential duplicates. Though Member_number is a unique identifier, \n",
        "there is no data indicating that the potential duplicates are from the same invoice. \n",
        "Therefore,we proceed with the EDA.** "
      ]
    },
    {
      "cell_type": "markdown",
      "id": "0247e63b",
      "metadata": {
        "papermill": {
          "duration": 0.013325,
          "end_time": "2022-07-22T11:25:45.612009",
          "exception": false,
          "start_time": "2022-07-22T11:25:45.598684",
          "status": "completed"
        },
        "tags": [],
        "id": "0247e63b"
      },
      "source": [
        "### Adding Columns To Aid in EDA"
      ]
    },
    {
      "cell_type": "code",
      "execution_count": null,
      "id": "75bbfc4c",
      "metadata": {
        "execution": {
          "iopub.execute_input": "2022-07-22T11:25:45.641495Z",
          "iopub.status.busy": "2022-07-22T11:25:45.640994Z",
          "iopub.status.idle": "2022-07-22T11:25:46.503622Z",
          "shell.execute_reply": "2022-07-22T11:25:46.502557Z"
        },
        "papermill": {
          "duration": 0.880862,
          "end_time": "2022-07-22T11:25:46.505887",
          "exception": false,
          "start_time": "2022-07-22T11:25:45.625025",
          "status": "completed"
        },
        "tags": [],
        "id": "75bbfc4c"
      },
      "outputs": [],
      "source": [
        "groceries['Weekdays'],groceries['Days'],groceries['Months'],groceries['Years']= groceries.Date.dt.strftime('%A'),groceries.Date.dt.strftime('%d'),groceries.Date.dt.strftime('%b'),groceries.Date.dt.strftime('%Y')\n",
        "groceries.head()"
      ]
    },
    {
      "cell_type": "markdown",
      "id": "171dd180",
      "metadata": {
        "papermill": {
          "duration": 0.012082,
          "end_time": "2022-07-22T11:25:46.530189",
          "exception": false,
          "start_time": "2022-07-22T11:25:46.518107",
          "status": "completed"
        },
        "tags": [],
        "id": "171dd180"
      },
      "source": [
        "### Number of Products in Dataset"
      ]
    },
    {
      "cell_type": "code",
      "execution_count": null,
      "id": "fafaf502",
      "metadata": {
        "execution": {
          "iopub.execute_input": "2022-07-22T11:25:46.561290Z",
          "iopub.status.busy": "2022-07-22T11:25:46.560083Z",
          "iopub.status.idle": "2022-07-22T11:25:46.572181Z",
          "shell.execute_reply": "2022-07-22T11:25:46.570758Z"
        },
        "papermill": {
          "duration": 0.031905,
          "end_time": "2022-07-22T11:25:46.575677",
          "exception": false,
          "start_time": "2022-07-22T11:25:46.543772",
          "status": "completed"
        },
        "tags": [],
        "id": "fafaf502"
      },
      "outputs": [],
      "source": [
        "groceries['itemDescription'].nunique()"
      ]
    },
    {
      "cell_type": "markdown",
      "id": "90e66b74",
      "metadata": {
        "papermill": {
          "duration": 0.013466,
          "end_time": "2022-07-22T11:25:46.602959",
          "exception": false,
          "start_time": "2022-07-22T11:25:46.589493",
          "status": "completed"
        },
        "tags": [],
        "id": "90e66b74"
      },
      "source": [
        "### Number of Customers"
      ]
    },
    {
      "cell_type": "code",
      "execution_count": null,
      "id": "10a586f5",
      "metadata": {
        "execution": {
          "iopub.execute_input": "2022-07-22T11:25:46.632117Z",
          "iopub.status.busy": "2022-07-22T11:25:46.631255Z",
          "iopub.status.idle": "2022-07-22T11:25:46.642317Z",
          "shell.execute_reply": "2022-07-22T11:25:46.641058Z"
        },
        "papermill": {
          "duration": 0.028623,
          "end_time": "2022-07-22T11:25:46.645172",
          "exception": false,
          "start_time": "2022-07-22T11:25:46.616549",
          "status": "completed"
        },
        "tags": [],
        "id": "10a586f5"
      },
      "outputs": [],
      "source": [
        "groceries['Member_number'].nunique()"
      ]
    },
    {
      "cell_type": "markdown",
      "id": "e88e4c73",
      "metadata": {
        "papermill": {
          "duration": 0.01507,
          "end_time": "2022-07-22T11:25:46.675001",
          "exception": false,
          "start_time": "2022-07-22T11:25:46.659931",
          "status": "completed"
        },
        "tags": [],
        "id": "e88e4c73"
      },
      "source": [
        "### Top 10 Products Sold"
      ]
    },
    {
      "cell_type": "code",
      "execution_count": null,
      "id": "261b8218",
      "metadata": {
        "execution": {
          "iopub.execute_input": "2022-07-22T11:25:46.705397Z",
          "iopub.status.busy": "2022-07-22T11:25:46.704586Z",
          "iopub.status.idle": "2022-07-22T11:25:48.027147Z",
          "shell.execute_reply": "2022-07-22T11:25:48.025816Z"
        },
        "papermill": {
          "duration": 1.340296,
          "end_time": "2022-07-22T11:25:48.029819",
          "exception": false,
          "start_time": "2022-07-22T11:25:46.689523",
          "status": "completed"
        },
        "tags": [],
        "id": "261b8218"
      },
      "outputs": [],
      "source": [
        "# Using the value_counts function here. While for Top 10 Customers the groupby function was used.\n",
        "# In this particular scenario both get the job done, but the value_counts function is simpler.\n",
        "\n",
        "Top10Groceries=groceries.itemDescription.value_counts().sort_values(ascending=False)[0:10]\n",
        "\n",
        "fig=px.bar(Top10Groceries,color=Top10Groceries.index,\n",
        "           labels={'value':'Quantity Sold','index':'Grocery Items'})\n",
        "fig.update_layout(showlegend=False,\n",
        "                 title_text='Top 10 Groceries Sold',title_x=0.5,\n",
        "                 title={'font': {'size':20}} )\n",
        "fig.show()"
      ]
    },
    {
      "cell_type": "markdown",
      "id": "f585601a",
      "metadata": {
        "papermill": {
          "duration": 0.015802,
          "end_time": "2022-07-22T11:25:48.061273",
          "exception": false,
          "start_time": "2022-07-22T11:25:48.045471",
          "status": "completed"
        },
        "tags": [],
        "id": "f585601a"
      },
      "source": [
        "### Top 10 Customer (Number of Items Bought)"
      ]
    },
    {
      "cell_type": "code",
      "execution_count": null,
      "id": "519afd9e",
      "metadata": {
        "execution": {
          "iopub.execute_input": "2022-07-22T11:25:48.092192Z",
          "iopub.status.busy": "2022-07-22T11:25:48.091443Z",
          "iopub.status.idle": "2022-07-22T11:25:48.606878Z",
          "shell.execute_reply": "2022-07-22T11:25:48.605773Z"
        },
        "papermill": {
          "duration": 0.533952,
          "end_time": "2022-07-22T11:25:48.609985",
          "exception": false,
          "start_time": "2022-07-22T11:25:48.076033",
          "status": "completed"
        },
        "tags": [],
        "id": "519afd9e"
      },
      "outputs": [],
      "source": [
        "Top10Customers=groceries.groupby('Member_number').agg(PurchaseQuantity=('itemDescription','count')).sort_values(by='PurchaseQuantity',ascending=False)[0:10]\n",
        "\n",
        "Top10Customers.plot(kind='bar',figsize=(15,7),legend=None)\n",
        "plt.title('Top 10 Customers',fontsize=20)\n",
        "plt.xlabel('Customer Number',fontsize=15)\n",
        "plt.ylabel('Purchase Quantity',fontsize=15)\n",
        "plt.show()"
      ]
    },
    {
      "cell_type": "markdown",
      "id": "d994721f",
      "metadata": {
        "papermill": {
          "duration": 0.013924,
          "end_time": "2022-07-22T11:25:48.638538",
          "exception": false,
          "start_time": "2022-07-22T11:25:48.624614",
          "status": "completed"
        },
        "tags": [],
        "id": "d994721f"
      },
      "source": [
        "## Time Series Analysis"
      ]
    },
    {
      "cell_type": "code",
      "execution_count": null,
      "id": "fd207a50",
      "metadata": {
        "execution": {
          "iopub.execute_input": "2022-07-22T11:25:48.668015Z",
          "iopub.status.busy": "2022-07-22T11:25:48.666808Z",
          "iopub.status.idle": "2022-07-22T11:25:48.675284Z",
          "shell.execute_reply": "2022-07-22T11:25:48.673836Z"
        },
        "papermill": {
          "duration": 0.026501,
          "end_time": "2022-07-22T11:25:48.678456",
          "exception": false,
          "start_time": "2022-07-22T11:25:48.651955",
          "status": "completed"
        },
        "tags": [],
        "id": "fd207a50"
      },
      "outputs": [],
      "source": [
        "groceries.set_index('Date',inplace=True)"
      ]
    },
    {
      "cell_type": "markdown",
      "id": "af27d205",
      "metadata": {
        "papermill": {
          "duration": 0.013795,
          "end_time": "2022-07-22T11:25:48.706538",
          "exception": false,
          "start_time": "2022-07-22T11:25:48.692743",
          "status": "completed"
        },
        "tags": [],
        "id": "af27d205"
      },
      "source": [
        "### Daily Sales "
      ]
    },
    {
      "cell_type": "code",
      "execution_count": null,
      "id": "a38da3b0",
      "metadata": {
        "execution": {
          "iopub.execute_input": "2022-07-22T11:25:48.737012Z",
          "iopub.status.busy": "2022-07-22T11:25:48.736542Z",
          "iopub.status.idle": "2022-07-22T11:25:49.107450Z",
          "shell.execute_reply": "2022-07-22T11:25:49.106309Z"
        },
        "papermill": {
          "duration": 0.389821,
          "end_time": "2022-07-22T11:25:49.110465",
          "exception": false,
          "start_time": "2022-07-22T11:25:48.720644",
          "status": "completed"
        },
        "tags": [],
        "id": "a38da3b0"
      },
      "outputs": [],
      "source": [
        "groceries.resample('D')[['itemDescription']].count().plot(kind='line',figsize=(15,5),legend=None)\n",
        "plt.title('Daily Sales- 2014 to 2015',fontsize=20)\n",
        "plt.xlabel('Date',fontsize=14)\n",
        "plt.ylabel('Daily Sales',fontsize=14)\n",
        "plt.show()"
      ]
    },
    {
      "cell_type": "markdown",
      "id": "d02ea5af",
      "metadata": {
        "papermill": {
          "duration": 0.015393,
          "end_time": "2022-07-22T11:25:49.140748",
          "exception": false,
          "start_time": "2022-07-22T11:25:49.125355",
          "status": "completed"
        },
        "tags": [],
        "id": "d02ea5af"
      },
      "source": [
        "### Monthly Sales- 2014 to 2015"
      ]
    },
    {
      "cell_type": "code",
      "execution_count": null,
      "id": "5ba890f2",
      "metadata": {
        "execution": {
          "iopub.execute_input": "2022-07-22T11:25:49.173533Z",
          "iopub.status.busy": "2022-07-22T11:25:49.172991Z",
          "iopub.status.idle": "2022-07-22T11:25:49.517106Z",
          "shell.execute_reply": "2022-07-22T11:25:49.515907Z"
        },
        "papermill": {
          "duration": 0.364057,
          "end_time": "2022-07-22T11:25:49.519612",
          "exception": false,
          "start_time": "2022-07-22T11:25:49.155555",
          "status": "completed"
        },
        "tags": [],
        "id": "5ba890f2"
      },
      "outputs": [],
      "source": [
        "groceries.resample('M')[['itemDescription']].count().plot(kind='line',figsize=(15,7),legend=None )\n",
        "plt.title('Monthly Sales- 2014 to 2015',fontsize=20)\n",
        "plt.xlabel('Date',fontsize=14)\n",
        "plt.ylabel('Monthly Sales',fontsize=14)\n",
        "plt.show()"
      ]
    },
    {
      "cell_type": "markdown",
      "id": "3ba204cd",
      "metadata": {
        "papermill": {
          "duration": 0.015306,
          "end_time": "2022-07-22T11:25:49.551554",
          "exception": false,
          "start_time": "2022-07-22T11:25:49.536248",
          "status": "completed"
        },
        "tags": [],
        "id": "3ba204cd"
      },
      "source": [
        "#### Lets Have a Different View of the above Monthly Purchases- 2014 to 2015 Graph, to better compare the two years."
      ]
    },
    {
      "cell_type": "code",
      "execution_count": null,
      "id": "aa5ab9c1",
      "metadata": {
        "execution": {
          "iopub.execute_input": "2022-07-22T11:25:49.585020Z",
          "iopub.status.busy": "2022-07-22T11:25:49.584531Z",
          "iopub.status.idle": "2022-07-22T11:25:49.615407Z",
          "shell.execute_reply": "2022-07-22T11:25:49.614478Z"
        },
        "papermill": {
          "duration": 0.050443,
          "end_time": "2022-07-22T11:25:49.617568",
          "exception": false,
          "start_time": "2022-07-22T11:25:49.567125",
          "status": "completed"
        },
        "tags": [],
        "id": "aa5ab9c1"
      },
      "outputs": [],
      "source": [
        "temp=groceries.groupby(['Years','Months'],as_index=False).agg(Sales=('itemDescription','count'))\n",
        "temp.head()"
      ]
    },
    {
      "cell_type": "code",
      "execution_count": null,
      "id": "41b0dc3a",
      "metadata": {
        "execution": {
          "iopub.execute_input": "2022-07-22T11:25:49.652349Z",
          "iopub.status.busy": "2022-07-22T11:25:49.651111Z",
          "iopub.status.idle": "2022-07-22T11:25:49.762754Z",
          "shell.execute_reply": "2022-07-22T11:25:49.761107Z"
        },
        "papermill": {
          "duration": 0.132339,
          "end_time": "2022-07-22T11:25:49.765830",
          "exception": false,
          "start_time": "2022-07-22T11:25:49.633491",
          "status": "completed"
        },
        "tags": [],
        "id": "41b0dc3a"
      },
      "outputs": [],
      "source": [
        "order_months=CategoricalDtype(['Jan','Feb','Mar','Apr','May','Jun','Jul','Aug','Sep','Oct','Nov','Dec'])\n",
        "temp['Months']=temp['Months'].astype(order_months)\n",
        "temp=temp.sort_values(by='Months')\n",
        "fig=px.line(temp,x='Months',y='Sales',color='Years')\n",
        "fig.update_layout(title_text='Monthly Sales- 2014 to 2015',title_x=0.5,\n",
        "                 title={'font': {'size':20}})"
      ]
    },
    {
      "cell_type": "markdown",
      "id": "0b083abe",
      "metadata": {
        "papermill": {
          "duration": 0.016993,
          "end_time": "2022-07-22T11:25:49.800734",
          "exception": false,
          "start_time": "2022-07-22T11:25:49.783741",
          "status": "completed"
        },
        "tags": [],
        "id": "0b083abe"
      },
      "source": [
        "### Weekday Sales"
      ]
    },
    {
      "cell_type": "code",
      "execution_count": null,
      "id": "d41ef7fe",
      "metadata": {
        "execution": {
          "iopub.execute_input": "2022-07-22T11:25:49.834694Z",
          "iopub.status.busy": "2022-07-22T11:25:49.834223Z",
          "iopub.status.idle": "2022-07-22T11:25:49.942306Z",
          "shell.execute_reply": "2022-07-22T11:25:49.940475Z"
        },
        "papermill": {
          "duration": 0.128589,
          "end_time": "2022-07-22T11:25:49.945248",
          "exception": false,
          "start_time": "2022-07-22T11:25:49.816659",
          "status": "completed"
        },
        "tags": [],
        "id": "d41ef7fe"
      },
      "outputs": [],
      "source": [
        "temp2=groceries.groupby(['Years','Weekdays'],as_index=False).agg(Sales=('itemDescription','count'))\n",
        "\n",
        "order_days=CategoricalDtype(['Monday','Tuesday','Wednesday','Thursday','Friday','Saturday','Sunday'])\n",
        "temp2['Weekdays']=temp2['Weekdays'].astype(order_days)\n",
        "temp2=temp2.sort_values(by='Weekdays')\n",
        "\n",
        "fig=px.line(temp2,x='Weekdays',y='Sales',color='Years')\n",
        "fig.update_layout(title_text='Weekday Sales- 2014 to 2015',title_x=0.5,\n",
        "                 title={'font': {'size':20}})"
      ]
    },
    {
      "cell_type": "markdown",
      "id": "22055a39",
      "metadata": {
        "papermill": {
          "duration": 0.017395,
          "end_time": "2022-07-22T11:25:49.980156",
          "exception": false,
          "start_time": "2022-07-22T11:25:49.962761",
          "status": "completed"
        },
        "tags": [],
        "id": "22055a39"
      },
      "source": [
        "### Sales Per Days of the Month"
      ]
    },
    {
      "cell_type": "code",
      "execution_count": null,
      "id": "98455296",
      "metadata": {
        "execution": {
          "iopub.execute_input": "2022-07-22T11:25:50.015447Z",
          "iopub.status.busy": "2022-07-22T11:25:50.014960Z",
          "iopub.status.idle": "2022-07-22T11:25:50.115439Z",
          "shell.execute_reply": "2022-07-22T11:25:50.114210Z"
        },
        "papermill": {
          "duration": 0.120946,
          "end_time": "2022-07-22T11:25:50.117716",
          "exception": false,
          "start_time": "2022-07-22T11:25:49.996770",
          "status": "completed"
        },
        "tags": [],
        "id": "98455296"
      },
      "outputs": [],
      "source": [
        "temp3=groceries.groupby(['Years','Days'],as_index=False).agg(Sales=('itemDescription','count'))\n",
        "\n",
        "fig=px.line(temp3,x='Days',y='Sales',color='Years')\n",
        "fig.update_layout(title_text='Sales Per Days of the Month',title_x=0.5,\n",
        "                 title={'font':{'size':20}})\n",
        "fig.show()"
      ]
    },
    {
      "cell_type": "markdown",
      "id": "f362a1b2",
      "metadata": {
        "papermill": {
          "duration": 0.016235,
          "end_time": "2022-07-22T11:25:50.150834",
          "exception": false,
          "start_time": "2022-07-22T11:25:50.134599",
          "status": "completed"
        },
        "tags": [],
        "id": "f362a1b2"
      },
      "source": [
        "### Total Unique Customers Per Week"
      ]
    },
    {
      "cell_type": "code",
      "execution_count": null,
      "id": "dad9538a",
      "metadata": {
        "execution": {
          "iopub.execute_input": "2022-07-22T11:25:50.186514Z",
          "iopub.status.busy": "2022-07-22T11:25:50.186017Z",
          "iopub.status.idle": "2022-07-22T11:25:50.286652Z",
          "shell.execute_reply": "2022-07-22T11:25:50.285373Z"
        },
        "papermill": {
          "duration": 0.122174,
          "end_time": "2022-07-22T11:25:50.290116",
          "exception": false,
          "start_time": "2022-07-22T11:25:50.167942",
          "status": "completed"
        },
        "tags": [],
        "id": "dad9538a"
      },
      "outputs": [],
      "source": [
        "temp4= groceries.groupby(['Years','Weekdays'],as_index=False).agg(DailyCustomers=('Member_number','nunique'))\n",
        "\n",
        "order_days=CategoricalDtype(['Monday','Tuesday','Wednesday','Thursday','Friday','Saturday','Sunday'])\n",
        "temp4['Weekdays']=temp4['Weekdays'].astype(order_days)\n",
        "temp4=temp4.sort_values(by='Weekdays')\n",
        "\n",
        "fig=px.line(temp4,x='Weekdays',y='DailyCustomers',color='Years')\n",
        "fig.update_layout(title_text='Weekday Customers- 2014 & 2015',title_x=0.5,\n",
        "                 title={'font': {'size':20}})"
      ]
    },
    {
      "cell_type": "markdown",
      "id": "2affcdcd",
      "metadata": {
        "papermill": {
          "duration": 0.018447,
          "end_time": "2022-07-22T11:25:50.325917",
          "exception": false,
          "start_time": "2022-07-22T11:25:50.307470",
          "status": "completed"
        },
        "tags": [],
        "id": "2affcdcd"
      },
      "source": [
        "### Average Number of Unique Customers Per Weekday"
      ]
    },
    {
      "cell_type": "code",
      "execution_count": null,
      "id": "139d84c6",
      "metadata": {
        "execution": {
          "iopub.execute_input": "2022-07-22T11:25:50.363651Z",
          "iopub.status.busy": "2022-07-22T11:25:50.362506Z",
          "iopub.status.idle": "2022-07-22T11:25:50.375024Z",
          "shell.execute_reply": "2022-07-22T11:25:50.373605Z"
        },
        "papermill": {
          "duration": 0.034948,
          "end_time": "2022-07-22T11:25:50.378136",
          "exception": false,
          "start_time": "2022-07-22T11:25:50.343188",
          "status": "completed"
        },
        "tags": [],
        "id": "139d84c6"
      },
      "outputs": [],
      "source": [
        "groceries=groceries.reset_index()"
      ]
    },
    {
      "cell_type": "code",
      "execution_count": null,
      "id": "442bd436",
      "metadata": {
        "execution": {
          "iopub.execute_input": "2022-07-22T11:25:50.416026Z",
          "iopub.status.busy": "2022-07-22T11:25:50.415545Z",
          "iopub.status.idle": "2022-07-22T11:25:50.516647Z",
          "shell.execute_reply": "2022-07-22T11:25:50.515549Z"
        },
        "papermill": {
          "duration": 0.122905,
          "end_time": "2022-07-22T11:25:50.519122",
          "exception": false,
          "start_time": "2022-07-22T11:25:50.396217",
          "status": "completed"
        },
        "tags": [],
        "id": "442bd436"
      },
      "outputs": [],
      "source": [
        "temp5= groceries.groupby([pd.Grouper(key='Date',freq='D'),'Years','Months','Weekdays'],as_index=False).agg(UniqueCustomers=('Member_number','nunique'))\n",
        "temp5"
      ]
    },
    {
      "cell_type": "code",
      "execution_count": null,
      "id": "57878496",
      "metadata": {
        "execution": {
          "iopub.execute_input": "2022-07-22T11:25:50.557022Z",
          "iopub.status.busy": "2022-07-22T11:25:50.556397Z",
          "iopub.status.idle": "2022-07-22T11:25:50.729109Z",
          "shell.execute_reply": "2022-07-22T11:25:50.727747Z"
        },
        "papermill": {
          "duration": 0.194643,
          "end_time": "2022-07-22T11:25:50.732252",
          "exception": false,
          "start_time": "2022-07-22T11:25:50.537609",
          "status": "completed"
        },
        "tags": [],
        "id": "57878496"
      },
      "outputs": [],
      "source": [
        "temp6=temp5.groupby(['Years','Weekdays'],as_index=False)[['UniqueCustomers']].mean()\n",
        "\n",
        "fig=px.bar(temp6,x='Weekdays',y='UniqueCustomers',color='Weekdays',facet_col='Years',\n",
        "          category_orders={'Weekdays':['Monday','Tuesday','Wednesday','Thursday','Friday','Saturday','Sunday']})\n",
        "fig.update_layout(title_text='Avg Number of Unique Customers Per Weekday',title_x=0.5,\n",
        "                 title={'font': {'size':20}},\n",
        "                 showlegend=False)\n",
        "fig.show()"
      ]
    },
    {
      "cell_type": "markdown",
      "id": "0f5a8d0e",
      "metadata": {
        "papermill": {
          "duration": 0.020907,
          "end_time": "2022-07-22T11:25:50.773402",
          "exception": false,
          "start_time": "2022-07-22T11:25:50.752495",
          "status": "completed"
        },
        "tags": [],
        "id": "0f5a8d0e"
      },
      "source": [
        "**Across the board 2015 compared to 2014 has fewer average number of unique customers per weekday.**"
      ]
    },
    {
      "cell_type": "markdown",
      "id": "16559f28",
      "metadata": {
        "papermill": {
          "duration": 0.017831,
          "end_time": "2022-07-22T11:25:50.809110",
          "exception": false,
          "start_time": "2022-07-22T11:25:50.791279",
          "status": "completed"
        },
        "tags": [],
        "id": "16559f28"
      },
      "source": [
        "### Customer Sales Per Weekday "
      ]
    },
    {
      "cell_type": "code",
      "execution_count": null,
      "id": "47c61768",
      "metadata": {
        "execution": {
          "iopub.execute_input": "2022-07-22T11:25:50.846600Z",
          "iopub.status.busy": "2022-07-22T11:25:50.846098Z",
          "iopub.status.idle": "2022-07-22T11:25:50.942293Z",
          "shell.execute_reply": "2022-07-22T11:25:50.940917Z"
        },
        "papermill": {
          "duration": 0.118833,
          "end_time": "2022-07-22T11:25:50.945127",
          "exception": false,
          "start_time": "2022-07-22T11:25:50.826294",
          "status": "completed"
        },
        "tags": [],
        "id": "47c61768"
      },
      "outputs": [],
      "source": [
        "temp6=groceries.groupby([pd.Grouper(key='Date',freq='D'),'Years','Weekdays'],as_index=False).agg(Sales=('itemDescription','count'),Customers=('Member_number','nunique'))\n",
        "temp6"
      ]
    },
    {
      "cell_type": "code",
      "execution_count": null,
      "id": "dc85128a",
      "metadata": {
        "execution": {
          "iopub.execute_input": "2022-07-22T11:25:50.986958Z",
          "iopub.status.busy": "2022-07-22T11:25:50.986127Z",
          "iopub.status.idle": "2022-07-22T11:25:51.160053Z",
          "shell.execute_reply": "2022-07-22T11:25:51.158379Z"
        },
        "papermill": {
          "duration": 0.1976,
          "end_time": "2022-07-22T11:25:51.162740",
          "exception": false,
          "start_time": "2022-07-22T11:25:50.965140",
          "status": "completed"
        },
        "tags": [],
        "id": "dc85128a"
      },
      "outputs": [],
      "source": [
        "temp7=temp6.groupby(['Years','Weekdays'],as_index=False).agg(Sales=('Sales','sum'),Customers=('Customers','sum')).eval('SalesPerCustomer=Sales/Customers').drop(columns=['Sales','Customers'])\n",
        "\n",
        "fig=px.bar(temp7,x='Weekdays',y='SalesPerCustomer',color='Weekdays',facet_col='Years',\n",
        "      category_orders={'Weekdays':['Monday','Tuesday','Wednesday','Thursday','Friday','Saturday','Sunday']})\n",
        "\n",
        "fig.update_layout(title_text='Weekday Sales Per Customer',title_x=0.5,\n",
        "                 title={'font': {'size':20}},\n",
        "                 showlegend=False)\n",
        "\n",
        "\n",
        "fig.show()"
      ]
    },
    {
      "cell_type": "markdown",
      "id": "b4cb427d",
      "metadata": {
        "papermill": {
          "duration": 0.018434,
          "end_time": "2022-07-22T11:25:51.201161",
          "exception": false,
          "start_time": "2022-07-22T11:25:51.182727",
          "status": "completed"
        },
        "tags": [],
        "id": "b4cb427d"
      },
      "source": [
        "**While 2014 had more average number of unique customers per weekday, 2015 has more sales per customer on a given weekday.**"
      ]
    }
  ],
  "metadata": {
    "kernelspec": {
      "display_name": "Python 3",
      "language": "python",
      "name": "python3"
    },
    "language_info": {
      "codemirror_mode": {
        "name": "ipython",
        "version": 3
      },
      "file_extension": ".py",
      "mimetype": "text/x-python",
      "name": "python",
      "nbconvert_exporter": "python",
      "pygments_lexer": "ipython3",
      "version": "3.7.12"
    },
    "papermill": {
      "default_parameters": {},
      "duration": 21.279879,
      "end_time": "2022-07-22T11:25:52.450405",
      "environment_variables": {},
      "exception": null,
      "input_path": "__notebook__.ipynb",
      "output_path": "__notebook__.ipynb",
      "parameters": {},
      "start_time": "2022-07-22T11:25:31.170526",
      "version": "2.3.4"
    },
    "colab": {
      "name": "groceries-dataset-eda.ipynb",
      "provenance": [],
      "include_colab_link": true
    }
  },
  "nbformat": 4,
  "nbformat_minor": 5
}